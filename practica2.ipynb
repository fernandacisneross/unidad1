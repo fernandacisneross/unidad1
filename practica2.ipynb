{
  "nbformat": 4,
  "nbformat_minor": 0,
  "metadata": {
    "colab": {
      "provenance": [],
      "authorship_tag": "ABX9TyNtBhvQmAjemumQ5l0dQ9KM",
      "include_colab_link": true
    },
    "kernelspec": {
      "name": "python3",
      "display_name": "Python 3"
    },
    "language_info": {
      "name": "python"
    }
  },
  "cells": [
    {
      "cell_type": "markdown",
      "metadata": {
        "id": "view-in-github",
        "colab_type": "text"
      },
      "source": [
        "<a href=\"https://colab.research.google.com/github/fernandacisneross/unidad1/blob/main/practica2.ipynb\" target=\"_parent\"><img src=\"https://colab.research.google.com/assets/colab-badge.svg\" alt=\"Open In Colab\"/></a>"
      ]
    },
    {
      "cell_type": "markdown",
      "source": [
        "practica 2-numpy\n",
        "fernanda estrella cisneros castañeda 5f\n",
        "fecha 09 de septiembr de 2025\n",
        "------------------------------\n",
        "como verificar el numero de dimenciones.\n",
        "numpy proporciona el atributo ndim que devuelve un numero entero que nos dice cuantaas dimensiones tiene una matriz\n",
        "--------------------------------\n",
        "ejemplo:\n",
        "comprueba de cuantas dimensiones son las siguientes matrices\n",
        "-------------------------------"
      ],
      "metadata": {
        "id": "c6eZoKpErrTu"
      }
    },
    {
      "cell_type": "code",
      "source": [
        "import numpy as np\n",
        "\n",
        "arregloA=np.array(42)\n",
        "arregloB=np.array([1,2,3,4,5])\n",
        "arregloC=np.array([[1,2,3],[4,5,6]])\n",
        "arregloD=np.array([[[1,2,3],[4,5,6]],[[1,2,3],[4,5,6]]])\n",
        "print(arregloA.ndim)\n",
        "print(arregloB.ndim)\n",
        "print(arregloC.ndim)\n",
        "print(arregloD.ndim)"
      ],
      "metadata": {
        "colab": {
          "base_uri": "https://localhost:8080/"
        },
        "id": "nGOjazi_sf1D",
        "outputId": "9e65c4a1-9a69-4427-b8be-7ba6c38d6c5b"
      },
      "execution_count": 8,
      "outputs": [
        {
          "output_type": "stream",
          "name": "stdout",
          "text": [
            "0\n",
            "1\n",
            "2\n",
            "3\n"
          ]
        }
      ]
    },
    {
      "cell_type": "markdown",
      "source": [
        "matrices de dimensiones superiores\n",
        "una matriz puede tener cualquier numero de dimensiones cuando se crea la matriz,puede definir el numero de dimensiones utilizando el argumento ndmin.\n",
        "ejemplo:\n",
        "crea una matriz con 5 dimensiones y verifica que tenga las 5 dimensiones.\n",
        "---------------------------\n"
      ],
      "metadata": {
        "id": "iAUC7o72u1mQ"
      }
    },
    {
      "cell_type": "code",
      "source": [
        "import numpy as np\n",
        "arreglo=np.array([1,2,3,4],ndmin=5)\n",
        "print(arreglo)\n",
        "print(\"numero de dimensiones:\",arreglo.ndim)"
      ],
      "metadata": {
        "colab": {
          "base_uri": "https://localhost:8080/"
        },
        "id": "SzVTyOduxU9f",
        "outputId": "6647c26c-677a-4740-b620-c4f6194ffc40"
      },
      "execution_count": 11,
      "outputs": [
        {
          "output_type": "stream",
          "name": "stdout",
          "text": [
            "[[[[[1 2 3 4]]]]]\n",
            "numero de dimensiones: 5\n"
          ]
        }
      ]
    },
    {
      "cell_type": "markdown",
      "source": [
        "ejercicio:\n",
        "considerando la siguiente matriz\n",
        "arreglo=np.array([[1,2,3],[4,5,6]])\n",
        "respuesta=2"
      ],
      "metadata": {
        "id": "sh-RnK-Kytb-"
      }
    },
    {
      "cell_type": "markdown",
      "source": [
        "numpy indexacion de matrices\n",
        "acceder a elementos de una matriz\n",
        "la indexacion de matrices es lo mismo que acceder a un elemento de una matriz.puede acceder a un elemento de una matriz haciendo referencia a su numero de indice. los indices en las matrices numpy comienzan en 0, lo que significa que el primer elemento tiene el indice 0, el segundo tiene el indice1,etc.\n",
        "ejemplo:obtenga el primer elemento de la siguiente matriz.\n",
        "--------------------------------------------------\n"
      ],
      "metadata": {
        "id": "RRHcNquOzUhl"
      }
    },
    {
      "cell_type": "code",
      "source": [
        "import numpy as np\n",
        "arreglo=np.array([1,2,3,4])\n",
        "print(arreglo[0])"
      ],
      "metadata": {
        "colab": {
          "base_uri": "https://localhost:8080/"
        },
        "id": "7cXYAIty0-YR",
        "outputId": "3011136d-c5a0-47dc-bc2a-e5e1ba8a0352"
      },
      "execution_count": 12,
      "outputs": [
        {
          "output_type": "stream",
          "name": "stdout",
          "text": [
            "1\n"
          ]
        }
      ]
    }
  ]
}