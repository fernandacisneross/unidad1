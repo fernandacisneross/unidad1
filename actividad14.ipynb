{
  "nbformat": 4,
  "nbformat_minor": 0,
  "metadata": {
    "colab": {
      "provenance": [],
      "authorship_tag": "ABX9TyMs61PYv5Xy8DWn2oZsIyNn",
      "include_colab_link": true
    },
    "kernelspec": {
      "name": "python3",
      "display_name": "Python 3"
    },
    "language_info": {
      "name": "python"
    }
  },
  "cells": [
    {
      "cell_type": "markdown",
      "metadata": {
        "id": "view-in-github",
        "colab_type": "text"
      },
      "source": [
        "<a href=\"https://colab.research.google.com/github/fernandacisneross/unidad1/blob/main/actividad14.ipynb\" target=\"_parent\"><img src=\"https://colab.research.google.com/assets/colab-badge.svg\" alt=\"Open In Colab\"/></a>"
      ]
    },
    {
      "cell_type": "markdown",
      "source": [
        "acceder a elementos de una matriz la indexacion de matrices es lo mismo que acceder a un elemento de una matriz haciendo referencia a su numero de indice.\n",
        "los indices en las matrices numpy comienzan en 0, lo que significa que el primer elemento tiene indice 0,el segundo tiene indice 1, el tercero tiene indice 2 etc.."
      ],
      "metadata": {
        "id": "KLC3o6_kP1fH"
      }
    },
    {
      "cell_type": "markdown",
      "source": [
        "ejemplo obtenga el primer elemento de la siguiente matriz"
      ],
      "metadata": {
        "id": "-0h9GYc6RFLH"
      }
    },
    {
      "cell_type": "code",
      "source": [
        "import numpy as np\n",
        "arreglo=np.array([1,2,3,4,5])\n",
        "print(arreglo[0])"
      ],
      "metadata": {
        "colab": {
          "base_uri": "https://localhost:8080/"
        },
        "id": "L49rO27RSpLg",
        "outputId": "93366697-4374-4610-e4da-305cb01c7246"
      },
      "execution_count": null,
      "outputs": [
        {
          "output_type": "stream",
          "name": "stdout",
          "text": [
            "1\n"
          ]
        }
      ]
    },
    {
      "cell_type": "markdown",
      "source": [
        "de la siguiente lista\n",
        "6,7,8,9,10 obtenga el tercero y cuarto elemento"
      ],
      "metadata": {
        "id": "XMvIkh6uS71A"
      }
    },
    {
      "cell_type": "code",
      "source": [
        "import numpy as np\n",
        "arreglo=np.array([6,7,8,9,10])\n",
        "print(arreglo[2])\n",
        "print(arreglo[3])"
      ],
      "metadata": {
        "colab": {
          "base_uri": "https://localhost:8080/"
        },
        "id": "Vllw7EIfTGaP",
        "outputId": "733cb62f-0f4a-4de4-eb27-4a9db70ff964"
      },
      "execution_count": null,
      "outputs": [
        {
          "output_type": "stream",
          "name": "stdout",
          "text": [
            "8\n",
            "9\n"
          ]
        }
      ]
    },
    {
      "cell_type": "markdown",
      "source": [
        "acceder a matrices 2D\n",
        "para acceder a elementos de matrices 2D podemos utilizar numeros enteros serparados con comas que representan al numero de dimension y al indice del elemento,piense en matrices 2D como una tabla con filas y columnas donde la dimension representa la fila y el indice representa la columna."
      ],
      "metadata": {
        "id": "ppFT1upoTY8w"
      }
    },
    {
      "cell_type": "markdown",
      "source": [
        "ejemplo:realiza una matriz 2D con los siguientes arreglos\n",
        "lista1:1,2,3,4,5\n",
        "lista2:6,7,8,9,10"
      ],
      "metadata": {
        "id": "xzYWMHOMT_Gw"
      }
    },
    {
      "cell_type": "code",
      "source": [
        "import numpy as np\n",
        "arreglo=np.array(([1,2,3,4,5],[6,7,8,9,10]))\n",
        "print(arreglo[0,1])"
      ],
      "metadata": {
        "colab": {
          "base_uri": "https://localhost:8080/"
        },
        "id": "RjJJYLtyULio",
        "outputId": "c6f2b121-e7a7-4aa6-d013-a1f535c319a7"
      },
      "execution_count": null,
      "outputs": [
        {
          "output_type": "stream",
          "name": "stdout",
          "text": [
            "2\n"
          ]
        }
      ]
    }
  ]
}