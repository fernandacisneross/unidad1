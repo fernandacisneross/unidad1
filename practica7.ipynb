{
  "nbformat": 4,
  "nbformat_minor": 0,
  "metadata": {
    "colab": {
      "provenance": [],
      "authorship_tag": "ABX9TyPsSSka+g+BZQ+xyIl4IQMX",
      "include_colab_link": true
    },
    "kernelspec": {
      "name": "python3",
      "display_name": "Python 3"
    },
    "language_info": {
      "name": "python"
    }
  },
  "cells": [
    {
      "cell_type": "markdown",
      "metadata": {
        "id": "view-in-github",
        "colab_type": "text"
      },
      "source": [
        "<a href=\"https://colab.research.google.com/github/fernandacisneross/unidad1/blob/main/practica7.ipynb\" target=\"_parent\"><img src=\"https://colab.research.google.com/assets/colab-badge.svg\" alt=\"Open In Colab\"/></a>"
      ]
    },
    {
      "cell_type": "markdown",
      "source": [
        "fernanda estrella cisneros castañeda-practica7-25 de septiembre 2025.\n",
        "----------------------------------\n",
        "slicing numpy\n",
        "---------------------------------\n",
        "utilice step para determinar el paso del corte:\n",
        "ejemplo:([1,2,3,4,5,6,7])-devuelve todos los elementos del indice 1 al indice 5"
      ],
      "metadata": {
        "id": "u-3SlCQeGnP2"
      }
    },
    {
      "cell_type": "code",
      "source": [
        "import numpy as np\n",
        "arreglo=np.array([1,2,3,4,5,6,7])\n",
        "print(arreglo[1:5:2])"
      ],
      "metadata": {
        "colab": {
          "base_uri": "https://localhost:8080/"
        },
        "id": "ImqUZ3u1IKGW",
        "outputId": "5ee75b3e-5fe3-49d8-ea7c-0f58c1ec8c34"
      },
      "execution_count": 2,
      "outputs": [
        {
          "output_type": "stream",
          "name": "stdout",
          "text": [
            "[2 4]\n"
          ]
        }
      ]
    },
    {
      "cell_type": "markdown",
      "source": [
        "ejemplo2:([1,2,3,4,5,6,7])\n",
        "devuelve los elementos de la matriz\n",
        "----------------------------------"
      ],
      "metadata": {
        "id": "fZuo7-9NIyDu"
      }
    },
    {
      "cell_type": "code",
      "source": [
        "import numpy as np\n",
        "arreglo=np.array([1,2,3,4,5,6,7])\n",
        "print(arreglo[::2])"
      ],
      "metadata": {
        "colab": {
          "base_uri": "https://localhost:8080/"
        },
        "id": "2JGi_4V0I9UW",
        "outputId": "a1567cdf-14bf-4327-e014-541aa641a1c3"
      },
      "execution_count": 4,
      "outputs": [
        {
          "output_type": "stream",
          "name": "stdout",
          "text": [
            "[1 3 5 7]\n"
          ]
        }
      ]
    },
    {
      "cell_type": "markdown",
      "source": [
        "slice de matrices 2D\n",
        "--------------------\n",
        "ejemplo:([[1,2,3,4,5],[6,7,8,9,10])\n",
        "del segundo elemento,corte del indice 1 al indice 4"
      ],
      "metadata": {
        "id": "MDGgn1GTJunX"
      }
    },
    {
      "cell_type": "code",
      "source": [
        "import numpy as np\n",
        "arreglo=np.array([[1,2,3,4,5],[6,7,8,9,10]])\n",
        "print(arreglo[1,1:4])"
      ],
      "metadata": {
        "colab": {
          "base_uri": "https://localhost:8080/"
        },
        "id": "6FxhS2I0LfBv",
        "outputId": "85bb1971-0555-4127-d196-e5fc6c7b0125"
      },
      "execution_count": 7,
      "outputs": [
        {
          "output_type": "stream",
          "name": "stdout",
          "text": [
            "[7 8 9]\n"
          ]
        }
      ]
    },
    {
      "cell_type": "markdown",
      "source": [
        "ejemplo 4:([[1,2,3,4,5],[6,7,8,9,10])\n",
        "de ambos elementos,devuelve el indice 2\n",
        "----------------------\n"
      ],
      "metadata": {
        "id": "L5Tc_M7YNBWP"
      }
    },
    {
      "cell_type": "code",
      "source": [
        "import numpy as np\n",
        "arreglo=np.array([[1,2,3,4,5],[6,7,8,9,10]])\n",
        "print(arreglo[0:2,2])"
      ],
      "metadata": {
        "colab": {
          "base_uri": "https://localhost:8080/"
        },
        "id": "SnayhucdNey_",
        "outputId": "106d1710-8454-4dcb-db5e-3c90ef1aa792"
      },
      "execution_count": 8,
      "outputs": [
        {
          "output_type": "stream",
          "name": "stdout",
          "text": [
            "[3 8]\n"
          ]
        }
      ]
    },
    {
      "cell_type": "markdown",
      "source": [
        "ejemplo5:([[1,2,3,4,5],[6,7,8,9,10]) de ambos elementos corta el indice 1 al indice 4"
      ],
      "metadata": {
        "id": "Q6s7zVcEOEPY"
      }
    },
    {
      "cell_type": "code",
      "source": [
        "import numpy as np\n",
        "arreglo=np.array([[1,2,3,4,5],[6,7,8,9,10]])\n",
        "print(arreglo[0:2,1:4])"
      ],
      "metadata": {
        "colab": {
          "base_uri": "https://localhost:8080/"
        },
        "id": "dnzL1HXZPOlv",
        "outputId": "c44b28dc-a58d-49fb-9d15-812ced8bf4d2"
      },
      "execution_count": 10,
      "outputs": [
        {
          "output_type": "stream",
          "name": "stdout",
          "text": [
            "[[2 3 4]\n",
            " [7 8 9]]\n"
          ]
        }
      ]
    },
    {
      "cell_type": "markdown",
      "source": [
        "ejercicio1-autonomo del siguiente arreglo,¿cual es el resultado?([1,2,3,4,5,6,7]) corta del 1er elemento al 6to elemento con paso2"
      ],
      "metadata": {
        "id": "uvpJ4RtTPyyv"
      }
    },
    {
      "cell_type": "code",
      "source": [
        "import numpy as np\n",
        "arreglo=np.array([1,2,3,4,5,6,7])\n",
        "print(arreglo[0:6:2])"
      ],
      "metadata": {
        "colab": {
          "base_uri": "https://localhost:8080/"
        },
        "id": "2TfQ8BcTQG0I",
        "outputId": "b6123760-3074-4757-d130-b5b3434cbc7d"
      },
      "execution_count": 13,
      "outputs": [
        {
          "output_type": "stream",
          "name": "stdout",
          "text": [
            "[1 3 5]\n"
          ]
        }
      ]
    }
  ]
}