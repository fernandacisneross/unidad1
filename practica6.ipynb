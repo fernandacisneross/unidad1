{
  "nbformat": 4,
  "nbformat_minor": 0,
  "metadata": {
    "colab": {
      "provenance": [],
      "authorship_tag": "ABX9TyMc19R6Js60bIbKtM5Qd1uC",
      "include_colab_link": true
    },
    "kernelspec": {
      "name": "python3",
      "display_name": "Python 3"
    },
    "language_info": {
      "name": "python"
    }
  },
  "cells": [
    {
      "cell_type": "markdown",
      "metadata": {
        "id": "view-in-github",
        "colab_type": "text"
      },
      "source": [
        "<a href=\"https://colab.research.google.com/github/fernandacisneross/unidad1/blob/main/practica6.ipynb\" target=\"_parent\"><img src=\"https://colab.research.google.com/assets/colab-badge.svg\" alt=\"Open In Colab\"/></a>"
      ]
    },
    {
      "cell_type": "code",
      "source": [
        "fernanda estrella cisneros castañeda-24 de septiembre de 2025-practica6-cortar arreglos numpy\n",
        "---------------------------\n",
        "slice en python significa tomar elementos de un indice determinado indice\n",
        "---------------------------\n",
        "pasamos slice en lugar del indice de esta manera:[started]sino pasamos el inicio se considera o si no pasamos el final,su longitud se considera una matriz de una dimension\n",
        "ejemplo:([1,2,3,4,5,6,7]) cortamos los elementos del indice 1 al indice 5"
      ],
      "metadata": {
        "id": "uXbd4Ku5KXhw"
      },
      "execution_count": null,
      "outputs": []
    },
    {
      "cell_type": "code",
      "source": [
        "import numpy as np\n",
        "arreglo=np.array([1,2,3,4,5,6,7])\n",
        "print(arreglo[1:5])"
      ],
      "metadata": {
        "colab": {
          "base_uri": "https://localhost:8080/"
        },
        "id": "TPWNJtgwLZio",
        "outputId": "867dadc1-6e89-4285-fcf0-edc8da149a28"
      },
      "execution_count": 2,
      "outputs": [
        {
          "output_type": "stream",
          "name": "stdout",
          "text": [
            "[2 3 4 5]\n"
          ]
        }
      ]
    },
    {
      "cell_type": "markdown",
      "source": [
        "ejemplo2:([1,2,3,4,5,6,7]) cortar del indice 4 hasta el final de la matriz"
      ],
      "metadata": {
        "id": "yrnTrkcSLwYI"
      }
    },
    {
      "cell_type": "code",
      "source": [
        "import numpy as np\n",
        "arreglo=np.array([1,2,3,4,5,6,7])\n",
        "print(arreglo[4:])\n"
      ],
      "metadata": {
        "colab": {
          "base_uri": "https://localhost:8080/"
        },
        "id": "1E2A3Y_NMFmQ",
        "outputId": "9bc4501f-041f-44bf-d800-6d9d2e411e65"
      },
      "execution_count": 4,
      "outputs": [
        {
          "output_type": "stream",
          "name": "stdout",
          "text": [
            "[5 6 7]\n"
          ]
        }
      ]
    },
    {
      "cell_type": "markdown",
      "source": [
        "ejemplo3:([1,2,3,4,5,6,7]) cortar elementos desde el principio hasta el indice 5"
      ],
      "metadata": {
        "id": "QzY6MJwpMbKx"
      }
    },
    {
      "cell_type": "code",
      "source": [
        "import numpy as np\n",
        "arreglo=np.array([1,2,3,4,5,6,7])\n",
        "print(arreglo[:5])"
      ],
      "metadata": {
        "colab": {
          "base_uri": "https://localhost:8080/"
        },
        "id": "lKGMKlWRMlho",
        "outputId": "058fab9e-bde2-4477-96dc-878beb53f20d"
      },
      "execution_count": 5,
      "outputs": [
        {
          "output_type": "stream",
          "name": "stdout",
          "text": [
            "[1 2 3 4 5]\n"
          ]
        }
      ]
    },
    {
      "cell_type": "markdown",
      "source": [
        "ejemplo 4:([1,2,3,4,5,6,7])\n",
        "corte negativo .utilizamos el operador W-\" para hacer referencia a un indice desde el final.\n",
        "----------------\n",
        "cortar del indice 3 desde el final al indice 1 desde el final"
      ],
      "metadata": {
        "id": "LLGbc13oM2c5"
      }
    },
    {
      "cell_type": "code",
      "source": [
        "import numpy as np\n",
        "arreglo=np.array([1,2,3,4,5,6,7])\n",
        "print(arreglo[-3:-1])"
      ],
      "metadata": {
        "colab": {
          "base_uri": "https://localhost:8080/"
        },
        "id": "6O2yj8bwNb6R",
        "outputId": "ca964e25-5b92-4045-dfd3-4ebbf82bd611"
      },
      "execution_count": 6,
      "outputs": [
        {
          "output_type": "stream",
          "name": "stdout",
          "text": [
            "[5 6]\n"
          ]
        }
      ]
    },
    {
      "cell_type": "markdown",
      "source": [],
      "metadata": {
        "id": "qxgOKyW5KWUw"
      }
    }
  ]
}