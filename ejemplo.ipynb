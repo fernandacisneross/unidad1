{
  "nbformat": 4,
  "nbformat_minor": 0,
  "metadata": {
    "colab": {
      "provenance": [],
      "authorship_tag": "ABX9TyPNauVZsz6jTqBX5AacJ3yj",
      "include_colab_link": true
    },
    "kernelspec": {
      "name": "python3",
      "display_name": "Python 3"
    },
    "language_info": {
      "name": "python"
    }
  },
  "cells": [
    {
      "cell_type": "markdown",
      "metadata": {
        "id": "view-in-github",
        "colab_type": "text"
      },
      "source": [
        "<a href=\"https://colab.research.google.com/github/fernandacisneross/unidad1/blob/main/ejemplo.ipynb\" target=\"_parent\"><img src=\"https://colab.research.google.com/assets/colab-badge.svg\" alt=\"Open In Colab\"/></a>"
      ]
    },
    {
      "cell_type": "code",
      "execution_count": null,
      "metadata": {
        "id": "bcS1V8vLw7kQ"
      },
      "outputs": [],
      "source": []
    },
    {
      "cell_type": "markdown",
      "source": [
        "prueba de collab python\n"
      ],
      "metadata": {
        "id": "D1H4YGlgxeBj"
      }
    },
    {
      "cell_type": "markdown",
      "source": [
        "solicitar 2 numeros al usuario y sumarlos"
      ],
      "metadata": {
        "id": "6v8V7AJ5zc3y"
      }
    },
    {
      "cell_type": "code",
      "source": [
        "numero1=int(input(\"ingresa el primer numero\"))\n",
        "numero2=int(input(\"ingresa el segundo numero\"))\n",
        "suma=numero1+numero2\n",
        "print(\"suma=\",suma)"
      ],
      "metadata": {
        "colab": {
          "base_uri": "https://localhost:8080/"
        },
        "id": "cIAO4AnOzmmz",
        "outputId": "f582a107-4fa7-4b3e-a0f3-211b8c2609e4"
      },
      "execution_count": 4,
      "outputs": [
        {
          "output_type": "stream",
          "name": "stdout",
          "text": [
            "ingresa el primer numero3\n",
            "ingresa el segundo numero6\n",
            "suma= 9\n"
          ]
        }
      ]
    },
    {
      "cell_type": "code",
      "source": [
        "print(\"hola mundo\")"
      ],
      "metadata": {
        "colab": {
          "base_uri": "https://localhost:8080/"
        },
        "id": "p-_FpL-zxxlC",
        "outputId": "9e409225-7a98-47d0-dcb3-fc71f85ed8c5"
      },
      "execution_count": 1,
      "outputs": [
        {
          "output_type": "stream",
          "name": "stdout",
          "text": [
            "hola mundo\n"
          ]
        }
      ]
    },
    {
      "cell_type": "markdown",
      "source": [
        "variables"
      ],
      "metadata": {
        "id": "7VNEBQTNyQT6"
      }
    },
    {
      "cell_type": "code",
      "source": [
        "#variables en python\n",
        "nombre=\"fernanda\"\n",
        "paterno=\"cisneros\"\n",
        "materno=\"castañeda\"\n",
        "edad=18\n",
        "estatura=1.61\n",
        "\n",
        "print(nombre,paterno,materno,edad,estatura)"
      ],
      "metadata": {
        "colab": {
          "base_uri": "https://localhost:8080/"
        },
        "id": "qW7VDKd8yW4j",
        "outputId": "456f55b2-a5d1-4a43-c8fe-131702b3a837"
      },
      "execution_count": 3,
      "outputs": [
        {
          "output_type": "stream",
          "name": "stdout",
          "text": [
            "fernanda cisneros castañeda 18 1.61\n"
          ]
        }
      ]
    }
  ]
}