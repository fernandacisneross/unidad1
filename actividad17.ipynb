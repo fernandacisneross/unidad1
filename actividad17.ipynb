{
  "nbformat": 4,
  "nbformat_minor": 0,
  "metadata": {
    "colab": {
      "provenance": [],
      "authorship_tag": "ABX9TyN8Yj0AkrfBkIVOrB+q0Fe8",
      "include_colab_link": true
    },
    "kernelspec": {
      "name": "python3",
      "display_name": "Python 3"
    },
    "language_info": {
      "name": "python"
    }
  },
  "cells": [
    {
      "cell_type": "markdown",
      "metadata": {
        "id": "view-in-github",
        "colab_type": "text"
      },
      "source": [
        "<a href=\"https://colab.research.google.com/github/fernandacisneross/unidad1/blob/main/actividad17.ipynb\" target=\"_parent\"><img src=\"https://colab.research.google.com/assets/colab-badge.svg\" alt=\"Open In Colab\"/></a>"
      ]
    },
    {
      "cell_type": "code",
      "source": [
        "import statistics\n",
        "datos=[23,45,56,12,67,34,55,21]\n",
        "media=statistics.mean(datos)\n",
        "print(f\"la media es {media}\")\n"
      ],
      "metadata": {
        "colab": {
          "base_uri": "https://localhost:8080/"
        },
        "outputId": "3c8000d7-d490-4e93-b456-368afcac4ea4",
        "id": "55hCntbg5yid"
      },
      "execution_count": null,
      "outputs": [
        {
          "output_type": "stream",
          "name": "stdout",
          "text": [
            "la media es 39.125\n"
          ]
        }
      ]
    },
    {
      "cell_type": "code",
      "source": [
        "import statistics\n",
        "datos=[23,45,56,12,67,34,55,21]\n",
        "mediana=statistics.median(datos)\n",
        "print(f\"la mediana es {mediana}\")\n"
      ],
      "metadata": {
        "colab": {
          "base_uri": "https://localhost:8080/"
        },
        "outputId": "db84f807-05b7-410e-aa9d-a1204c0395d1",
        "id": "lnk7tqXE5ypq"
      },
      "execution_count": 7,
      "outputs": [
        {
          "output_type": "stream",
          "name": "stdout",
          "text": [
            "la mediana es 39.5\n"
          ]
        }
      ]
    },
    {
      "cell_type": "code",
      "source": [
        "import statistics\n",
        "datos=[23,45,56,12,67,34,55,21,23]\n",
        "moda=statistics.mode(datos)\n",
        "print(f\"la moda es {moda}\")\n"
      ],
      "metadata": {
        "colab": {
          "base_uri": "https://localhost:8080/"
        },
        "id": "68vwbfPQ5Ojg",
        "outputId": "567165ff-7c1f-4cdc-c8fd-62b5a103fec4"
      },
      "execution_count": 9,
      "outputs": [
        {
          "output_type": "stream",
          "name": "stdout",
          "text": [
            "la moda es 23\n"
          ]
        }
      ]
    },
    {
      "cell_type": "code",
      "source": [
        "import statistics\n",
        "datos=[10,20,30,40,20,50,20]\n",
        "media=statistics.mean(datos)\n",
        "print(f\"la media es {media}\")\n"
      ],
      "metadata": {
        "colab": {
          "base_uri": "https://localhost:8080/"
        },
        "outputId": "b826c26d-b59b-4a66-fb19-a73f8cd74fc5",
        "id": "QWWsi-vz6YYq"
      },
      "execution_count": 10,
      "outputs": [
        {
          "output_type": "stream",
          "name": "stdout",
          "text": [
            "la media es 27.142857142857142\n"
          ]
        }
      ]
    },
    {
      "cell_type": "code",
      "source": [
        "import statistics\n",
        "datos=[10,20,30,40,20,50,20]\n",
        "mediana=statistics.median(datos)\n",
        "print(f\"la mediana es {mediana}\")\n"
      ],
      "metadata": {
        "colab": {
          "base_uri": "https://localhost:8080/"
        },
        "outputId": "9b06eaca-442f-4352-da0e-a1801fabfdd6",
        "id": "JGIVz6qF7JDY"
      },
      "execution_count": 11,
      "outputs": [
        {
          "output_type": "stream",
          "name": "stdout",
          "text": [
            "la mediana es 20\n"
          ]
        }
      ]
    },
    {
      "cell_type": "code",
      "source": [
        "import statistics\n",
        "datos=[10,20,30,40,20,50,20]\n",
        "moda=statistics.mode(datos)\n",
        "print(f\"la moda es {moda}\")\n"
      ],
      "metadata": {
        "colab": {
          "base_uri": "https://localhost:8080/"
        },
        "outputId": "a5fe2d9c-d218-4bef-ffdd-eab195edcc10",
        "id": "hAVTDtPw7dQD"
      },
      "execution_count": 12,
      "outputs": [
        {
          "output_type": "stream",
          "name": "stdout",
          "text": [
            "la moda es 20\n"
          ]
        }
      ]
    },
    {
      "cell_type": "code",
      "source": [
        "import statistics\n",
        "datos=[10,20,30,40,50]\n",
        "media=statistics.mean(datos)\n",
        "print(f\"la media es {media}\")\n"
      ],
      "metadata": {
        "colab": {
          "base_uri": "https://localhost:8080/"
        },
        "outputId": "9481dba7-03b1-41ab-de08-10398a4e7c15",
        "id": "1zsablGD7qRy"
      },
      "execution_count": 13,
      "outputs": [
        {
          "output_type": "stream",
          "name": "stdout",
          "text": [
            "la media es 30\n"
          ]
        }
      ]
    },
    {
      "cell_type": "code",
      "source": [
        "import statistics\n",
        "datos=[10,20,30,40,50]\n",
        "mediana=statistics.median(datos)\n",
        "print(f\"la mediana es {mediana}\")\n"
      ],
      "metadata": {
        "colab": {
          "base_uri": "https://localhost:8080/"
        },
        "outputId": "2c4aae6c-deba-4beb-cbaa-f7f6e4545124",
        "id": "reTLojf67zsb"
      },
      "execution_count": 14,
      "outputs": [
        {
          "output_type": "stream",
          "name": "stdout",
          "text": [
            "la mediana es 30\n"
          ]
        }
      ]
    },
    {
      "cell_type": "code",
      "source": [
        "import statistics\n",
        "datos=[10,20,30,40,50]\n",
        "moda=statistics.mode(datos)\n",
        "print(f\"la moda es {moda}\")\n"
      ],
      "metadata": {
        "colab": {
          "base_uri": "https://localhost:8080/"
        },
        "outputId": "6f6b843d-8959-41c4-edfe-a370888080ae",
        "id": "tLNWSWgz76iY"
      },
      "execution_count": 15,
      "outputs": [
        {
          "output_type": "stream",
          "name": "stdout",
          "text": [
            "la moda es 10\n"
          ]
        }
      ]
    }
  ]
}