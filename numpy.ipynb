{
  "nbformat": 4,
  "nbformat_minor": 0,
  "metadata": {
    "colab": {
      "provenance": [],
      "authorship_tag": "ABX9TyMON0pYmsiUlol3I8OQagDN",
      "include_colab_link": true
    },
    "kernelspec": {
      "name": "python3",
      "display_name": "Python 3"
    },
    "language_info": {
      "name": "python"
    }
  },
  "cells": [
    {
      "cell_type": "markdown",
      "metadata": {
        "id": "view-in-github",
        "colab_type": "text"
      },
      "source": [
        "<a href=\"https://colab.research.google.com/github/fernandacisneross/unidad1/blob/main/numpy.ipynb\" target=\"_parent\"><img src=\"https://colab.research.google.com/assets/colab-badge.svg\" alt=\"Open In Colab\"/></a>"
      ]
    },
    {
      "cell_type": "code",
      "execution_count": null,
      "metadata": {
        "id": "GgbiYSTviZtF"
      },
      "outputs": [],
      "source": []
    },
    {
      "cell_type": "markdown",
      "source": [
        "numpy es una libreria de python.\n",
        "numpy se utiliza para trabajar con matrices o arreglos.\n",
        "numpy es la abreviatura de \"python numerico\"\n",
        "tambien tiene funciones para trabajar en el dominio del algebra lineal,la transformada y las matrices\n",
        "en python tenemos listas que sirven como matrices pero son lentas de procesar.numpy tiene como objetivo proporcionar un objeto de matriz que sea 50 veces mas rapido que las listas tradicionales."
      ],
      "metadata": {
        "id": "SEdK-GI5i23L"
      }
    },
    {
      "cell_type": "code",
      "source": [
        "#primero tenemos que importar la libreria\n",
        "import numpy\n",
        "\n",
        "arreglo=numpy.array([12345])\n",
        "print(arreglo)"
      ],
      "metadata": {
        "colab": {
          "base_uri": "https://localhost:8080/"
        },
        "id": "l9ocNq7JlGEy",
        "outputId": "b6e1c17c-1e2d-4ac8-aab8-b641b50c25e0"
      },
      "execution_count": null,
      "outputs": [
        {
          "output_type": "stream",
          "name": "stdout",
          "text": [
            "[12345]\n"
          ]
        }
      ]
    },
    {
      "cell_type": "markdown",
      "source": [
        "numpy como np\n",
        "numpy generalmente se importa bajo el alias np.en python los alias son un nombre alternativo para referirse a la misma cosa"
      ],
      "metadata": {
        "id": "4tbNc8UrmJ-6"
      }
    },
    {
      "cell_type": "code",
      "source": [
        "import numpy as np\n",
        "\n",
        "arreglo=np.array([6,7,8,9])\n",
        "print(arreglo)"
      ],
      "metadata": {
        "colab": {
          "base_uri": "https://localhost:8080/"
        },
        "id": "amYE-gaTmjXi",
        "outputId": "0ea5910f-a510-422f-ecc9-33e090d5e37b"
      },
      "execution_count": null,
      "outputs": [
        {
          "output_type": "stream",
          "name": "stdout",
          "text": [
            "[6 7 8 9]\n"
          ]
        }
      ]
    },
    {
      "cell_type": "markdown",
      "source": [
        "comprobando la version de numpy la cadena de la version se almacena en el atributo__version__"
      ],
      "metadata": {
        "id": "EyQUgHJ2nc_i"
      }
    },
    {
      "cell_type": "code",
      "source": [
        "import numpy as np\n",
        "\n",
        "print(np.__version__)"
      ],
      "metadata": {
        "colab": {
          "base_uri": "https://localhost:8080/"
        },
        "id": "ZBlLujWTnz8C",
        "outputId": "d4da2689-f73b-47eb-c08f-9ec319ef35d7"
      },
      "execution_count": null,
      "outputs": [
        {
          "output_type": "stream",
          "name": "stdout",
          "text": [
            "2.0.2\n"
          ]
        }
      ]
    },
    {
      "cell_type": "markdown",
      "source": [
        "numpy creando matrices\n",
        "crear un objeto ndarray de numpy\n",
        "numpy se utiliza para trabajar con matrices.el objeto de matriz se llama ndarray.\n",
        "podemos crear un numpy ndarray utilizando la funcion array()"
      ],
      "metadata": {
        "id": "5F1jv8FcoOYS"
      }
    },
    {
      "cell_type": "code",
      "source": [
        "import numpy as np\n",
        "arreglo=np.array([\"raul\",\"ana\",\"kimberly\",\"yazmin\"])\n",
        "print(arreglo)\n",
        "print(type(arreglo))"
      ],
      "metadata": {
        "colab": {
          "base_uri": "https://localhost:8080/"
        },
        "id": "9664N-mzpIvy",
        "outputId": "780a0421-cbe0-49cc-f594-f5c96295aa05"
      },
      "execution_count": null,
      "outputs": [
        {
          "output_type": "stream",
          "name": "stdout",
          "text": [
            "['raul' 'ana' 'kimberly' 'yazmin']\n",
            "<class 'numpy.ndarray'>\n"
          ]
        }
      ]
    },
    {
      "cell_type": "markdown",
      "source": [
        "dimensiones en matrices\n",
        "una dimension en matrices es un nivel de profundidad de matriz(matrices anidadas)\n",
        "una matriz anidada contiene matrices como elementos\n",
        "matrices 0-D.son elementos de una matriz.cada valor de una matriz es una matriz 0-D.ejemplo:crea una matriz 0-D con un valor de 42"
      ],
      "metadata": {
        "id": "EJvM3BHWqEPS"
      }
    },
    {
      "cell_type": "code",
      "source": [
        "import numpy as np\n",
        "\n",
        "arreglo=np.array(42)\n",
        "print(arreglo)"
      ],
      "metadata": {
        "colab": {
          "base_uri": "https://localhost:8080/"
        },
        "id": "cAUC0NdXrEUR",
        "outputId": "257a4a9d-0edf-4c02-bd2c-2d0eef747022"
      },
      "execution_count": null,
      "outputs": [
        {
          "output_type": "stream",
          "name": "stdout",
          "text": [
            "42\n"
          ]
        }
      ]
    },
    {
      "cell_type": "markdown",
      "source": [
        "matrices 1-D\n",
        "una matriz que tiene matrices 0-D como elementos se denomina matriz unidimensional o 1-D.\n",
        "estas son las matrices mas comunes y basicas.\n",
        "ejemplo:crea una matriz de 1-D que tenga los valores 1,2,3,4,5"
      ],
      "metadata": {
        "id": "2qfIXR_EsTQB"
      }
    },
    {
      "cell_type": "code",
      "source": [
        "import numpy as np\n",
        "\n",
        "arreglo=np.array([1,2,3,4,5])\n",
        "\n",
        "print(arreglo)"
      ],
      "metadata": {
        "colab": {
          "base_uri": "https://localhost:8080/"
        },
        "id": "rsnaf4Q5tMHB",
        "outputId": "387c1777-d5fa-43e8-95fd-ee685ea81680"
      },
      "execution_count": null,
      "outputs": [
        {
          "output_type": "stream",
          "name": "stdout",
          "text": [
            "[1 2 3 4 5]\n"
          ]
        }
      ]
    },
    {
      "cell_type": "markdown",
      "source": [
        "matrices 2-D\n",
        "una matriz que tiene como matrices 1-D como elementos se denomina 2-D.\n",
        "a menudo se utilizan para representar mareices de segundo orden.numpy tiene un submodulo completo dedicado a operaciones con matrices llamado numpy.mat.\n",
        "ejemplo:crea una matriz 2D que con tenga dos matrices con los valores 123 y 456."
      ],
      "metadata": {
        "id": "HOiXGj6Yt0cF"
      }
    },
    {
      "cell_type": "code",
      "source": [
        "import numpy as np\n",
        "arreglo=np.array([[1,2,3],[4,5,6]])\n",
        "\n",
        "print(arreglo)"
      ],
      "metadata": {
        "colab": {
          "base_uri": "https://localhost:8080/"
        },
        "id": "jRdXHeifupwN",
        "outputId": "e37ed110-a762-4ac2-9e95-8d437486dc26"
      },
      "execution_count": null,
      "outputs": [
        {
          "output_type": "stream",
          "name": "stdout",
          "text": [
            "[[1 2 3]\n",
            " [4 5 6]]\n"
          ]
        }
      ]
    },
    {
      "cell_type": "markdown",
      "source": [
        "matrices 3D\n",
        "una matriz que tiene matrices 2D se denomina 3D.\n",
        "estas matrices se utilizan para representar una matriz de tercer orden.\n",
        "ejemplo:crea una matriz 3D con dos matrices bidimencionales,ambas conteniendo dos matrices con los valores 123 y 456."
      ],
      "metadata": {
        "id": "r-i5v3JkvX5F"
      }
    },
    {
      "cell_type": "code",
      "source": [
        "import numpy as np\n",
        "arreglo=np.array([[[1,2,3],[4,5,6]],[[1,2,3],[4,5,6]]])\n",
        "print(arreglo)"
      ],
      "metadata": {
        "colab": {
          "base_uri": "https://localhost:8080/"
        },
        "id": "zaVFZY2GwJAF",
        "outputId": "8cad44c6-4276-471b-c430-e84e26e6a234"
      },
      "execution_count": null,
      "outputs": [
        {
          "output_type": "stream",
          "name": "stdout",
          "text": [
            "[[[1 2 3]\n",
            "  [4 5 6]]\n",
            "\n",
            " [[1 2 3]\n",
            "  [4 5 6]]]\n"
          ]
        }
      ]
    }
  ]
}